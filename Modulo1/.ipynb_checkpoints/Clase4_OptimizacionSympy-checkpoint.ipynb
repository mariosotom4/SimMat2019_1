{
 "cells": [
  {
   "cell_type": "markdown",
   "metadata": {},
   "source": [
    "# Optimización de funciones escalares diferenciables con `SymPy`\n",
    "\n",
    "<div id=\"apDiv1\">\n",
    "<table width=\"90%\" border=\"0\">\n",
    "<tr>\n",
    "<td><img src=\"https://sites.google.com/site/pfmportafolio20152/_/rsrc/1446081153413/avance-academico-1/2-4-extremos-relativos-criterios-de-la-1ra-2da-derivada/Captura.PNG\" align=\"center\"></td>\n",
    "</tr>\n",
    "</table>\n",
    "</div>\n",
    "\n",
    "> - La teoría de optimización usa elementos comenzando con cálculo elemental y álgebra lineal básica, y luego se extiende con análisis funcional y convexo.\n",
    "> - Las aplicaciones en optimización involucran ciencia, ingeniería, economía, finanzas e industria.\n",
    "> - El amplio y creciente uso de la optimización lo hace escencial para estudiantes y profesionales de cualquier rama de la ciencia y la tecnología."
   ]
  },
  {
   "cell_type": "markdown",
   "metadata": {},
   "source": [
    "Algunas aplicaciones son:\n",
    "\n",
    "1. Ingeniería\n",
    " - Encontrar la composición de equilibrio de una mezcla de diferentes átomos.\n",
    " - Planeación de ruta para un robot (o vehículo aéreo no tripulado).\n",
    " - Planeación de la mano de obra óptima en una construcción o planta de producción.\n",
    "2. Distribución óptima de recursos.\n",
    " - Distribución de rutas de vuelo.\n",
    " - Planeación de ruta óptima.\n",
    "3. Optimización financiera\n",
    " - Administración de riesgos.\n",
    " - Portafolios de inversión.\n",
    " \n",
    "**Referencia:**\n",
    "http://www.math.uwaterloo.ca/~hwolkowi//henry/reports/talks.d/t06talks.d/06msribirs.d/optimportance.shtml"
   ]
  },
  {
   "cell_type": "markdown",
   "metadata": {},
   "source": [
    "En esta clase veremos aspectos básicos de optimización. \n",
    "\n",
    "**Objetivo de la clase:** obtener máximos y mínimos de una función escalar de una variable."
   ]
  },
  {
   "cell_type": "markdown",
   "metadata": {},
   "source": [
    "___\n",
    "## 0. Librerías que usaremos\n",
    "\n",
    "`python` es un lenguaje de programación (el cual es de alto nivel). Sin embargo, `python` solo tiene unos pocos comandos primitivos; por tanto, para hacer más fácil su uso en nuestras actividades de simulación en ingeniería, otras personas ya han escrito ciertas librerías por nosotros."
   ]
  },
  {
   "cell_type": "markdown",
   "metadata": {},
   "source": [
    "### 0.1 `NumPy`\n",
    "\n",
    "<img src=\"http://www.numpy.org/_static/numpy_logo.png\" width=\"300px\" height=\"100px\" align=\"center\">\n",
    "\n",
    "\n",
    "`NumPy` (Numerical Python) es la librería fundamental para computación científica (numérica) con `Python`. Contiene, entre otras cosas:\n",
    "- un objeto tipo arreglo N-dimensional muy poderoso\n",
    "- funciones sofisticadas\n",
    "- funciones de álgebra lineal, transformada de Fourier y números aleatorios.\n",
    "\n",
    "Por lo anterior, `NumPy` es de amplio uso entre la comunidad científica e ingenieril (por su manejo de cantidades vectoriales). De la misma manera, se usa para guardar datos. Para nuestros propósitos, se puede usar libremente.\n",
    "\n",
    "**Referencia:** <http://www.numpy.org/>"
   ]
  },
  {
   "cell_type": "markdown",
   "metadata": {},
   "source": [
    "`NumPy` ya viene incluido en la instalación estándar de Anaconda por defecto. Para comenzar a usarlo, solo debemos de importarlo:"
   ]
  },
  {
   "cell_type": "code",
   "execution_count": 329,
   "metadata": {},
   "outputs": [],
   "source": [
<<<<<<< Updated upstream
    "# importar la librería numpy\n",
    "import numpy as np"
=======
    "import numpy as np\n"
>>>>>>> Stashed changes
   ]
  },
  {
   "cell_type": "markdown",
   "metadata": {},
   "source": [
    "### 0.2 `SymPy`\n",
    "\n",
    "<img src=\"http://www.sympy.org/static/images/logo.png\" width=\"300px\" height=\"100px\" />\n",
    "\n",
    "`SymPy` (Symbolic Python) es una librería de `Python` para matemáticas simbólicas. Su objetivo es convertirse en un sistema de álgebra computacional con las mejores características, manteniendo el código lo más simple posible para que sea comprensible.\n",
    "\n",
    "**Referencia:**\n",
    "- http://www.sympy.org/en/index.html"
   ]
  },
  {
   "cell_type": "markdown",
   "metadata": {},
   "source": [
    "`SymPy` ya viene incluido en la instalación estándar de Anaconda por defecto. Para comenzar a usarlo, solo debemos de importarlo:"
   ]
  },
  {
   "cell_type": "code",
<<<<<<< Updated upstream
   "execution_count": 5,
=======
   "execution_count": 330,
>>>>>>> Stashed changes
   "metadata": {},
   "outputs": [],
   "source": [
    "# importar la librería sympy\n",
    "import sympy as sym\n",
<<<<<<< Updated upstream
    "# imprimir en formato latex \n",
=======
    "# imprimir en formato latex sym.init_printing(use_latex='mathjax')\n",
>>>>>>> Stashed changes
    "sym.init_printing(use_latex='mathjax')"
   ]
  },
  {
   "cell_type": "markdown",
   "metadata": {},
   "source": [
    "La funcionalidad de imprimir en formato LaTex que nos da `SymPy` mediante el proyecto `mathjax` hace de `SymPy` una herramienta muy atractiva..."
   ]
  },
  {
   "cell_type": "markdown",
   "metadata": {},
   "source": [
    "Notar que en `SymPy` y en `NumPy` existen funciones con el mismo nombre, pero reciben tipos de datos diferentes..."
   ]
  },
  {
   "cell_type": "code",
<<<<<<< Updated upstream
   "execution_count": 6,
=======
   "execution_count": 331,
>>>>>>> Stashed changes
   "metadata": {},
   "outputs": [
    {
     "data": {
      "text/latex": [
       "$$x$$"
      ],
      "text/plain": [
       "x"
      ]
     },
<<<<<<< Updated upstream
     "execution_count": 6,
=======
     "execution_count": 331,
>>>>>>> Stashed changes
     "metadata": {},
     "output_type": "execute_result"
    }
   ],
   "source": [
    "sym.var('x')"
   ]
  },
  {
   "cell_type": "code",
<<<<<<< Updated upstream
   "execution_count": 9,
=======
   "execution_count": 332,
>>>>>>> Stashed changes
   "metadata": {},
   "outputs": [
    {
     "data": {
      "text/latex": [
<<<<<<< Updated upstream
       "$$0.1411200080598672$$"
      ],
      "text/plain": [
       "0.1411200080598672"
      ]
     },
     "execution_count": 9,
=======
       "$$0.8939966636005579$$"
      ],
      "text/plain": [
       "0.8939966636005579"
      ]
     },
     "execution_count": 332,
>>>>>>> Stashed changes
     "metadata": {},
     "output_type": "execute_result"
    }
   ],
   "source": [
    "# diferencias de funciones de sympy y numpy\n",
    "sym.sin(x)\n",
<<<<<<< Updated upstream
    "np.sin(3)"
=======
    "np.sin(90)"
>>>>>>> Stashed changes
   ]
  },
  {
   "cell_type": "code",
   "execution_count": null,
   "metadata": {},
   "outputs": [],
   "source": []
  },
  {
   "cell_type": "markdown",
   "metadata": {},
   "source": [
    "Explicar el uso de la sintaxis `from numpy import *` y sus peligros (no recomendable)."
   ]
  },
  {
   "cell_type": "code",
   "execution_count": 333,
   "metadata": {},
   "outputs": [],
   "source": [
    "# importar con * y ver que pasa\n",
    "# from numpy import *\n",
    "# from sympy import *\n",
    "# No recomendado"
   ]
  },
  {
   "cell_type": "markdown",
   "metadata": {},
   "source": [
    "### 0.3 `PyPlot` de `matplotlib`\n",
    "\n",
    "<img src=\"https://matplotlib.org/_static/logo2.svg\" width=\"300px\" height=\"100px\" />\n",
    "\n",
    "\n",
    "El módulo `PyPlot` de la librería `matplotlib` contiene funciones que nos permite generar una gran cantidad de gráficas rápidamente. Las funciones de este módulo están escritas con el mismo nombre que las funciones para graficar en `Matlab`.\n",
    "\n",
    "**Referencia:**\n",
    "- https://matplotlib.org/api/pyplot_summary.html"
   ]
  },
  {
   "cell_type": "code",
<<<<<<< Updated upstream
   "execution_count": 10,
=======
   "execution_count": 334,
>>>>>>> Stashed changes
   "metadata": {},
   "outputs": [],
   "source": [
    "# importar matplotlib.pyplot\n",
<<<<<<< Updated upstream
    "\n",
    "import matplotlib.pyplot as plt\n"
=======
    "import matplotlib.pyplot as plt"
>>>>>>> Stashed changes
   ]
  },
  {
   "cell_type": "markdown",
   "metadata": {},
   "source": [
    "**Basamos todos los resultados en los siguientes teoremas:**"
   ]
  },
  {
   "cell_type": "markdown",
   "metadata": {},
   "source": [
    "## 1. Teorema de Fermat (análisis)\n",
    "\n",
    "Si una función $f(x)$ alcanza un máximo o mínimo local en $x=c$, y si la derivada $f'(c)$ existe en el punto $c$, entonces $f'(c) = 0$."
   ]
  },
  {
   "cell_type": "markdown",
   "metadata": {},
   "source": [
    "### Ejemplo\n",
    "\n",
    "Sabemos que la función $f(x)=x^2$ tiene un mínimo global en $x=0$, pues\n",
    "\n",
    "$$f(x)=x^2\\geq0,\\qquad\\text{y}\\qquad f(x)=x^2=0 \\qquad\\text{si y solo si}\\qquad x=0.$$"
   ]
  },
  {
   "cell_type": "code",
<<<<<<< Updated upstream
   "execution_count": 12,
=======
   "execution_count": 335,
>>>>>>> Stashed changes
   "metadata": {},
   "outputs": [
    {
     "data": {
      "text/latex": [
       "$$x$$"
      ],
      "text/plain": [
       "x"
      ]
     },
<<<<<<< Updated upstream
     "execution_count": 12,
=======
     "execution_count": 335,
>>>>>>> Stashed changes
     "metadata": {},
     "output_type": "execute_result"
    }
   ],
   "source": [
    "# declarar la variable real x\n",
<<<<<<< Updated upstream
    "sym.var('x', real='true')"
=======
    "sym.var('x', real='true')\n"
>>>>>>> Stashed changes
   ]
  },
  {
   "cell_type": "code",
<<<<<<< Updated upstream
   "execution_count": 15,
=======
   "execution_count": 336,
>>>>>>> Stashed changes
   "metadata": {},
   "outputs": [
    {
     "data": {
      "text/latex": [
       "$$x^{2}$$"
      ],
      "text/plain": [
       " 2\n",
       "x "
      ]
     },
<<<<<<< Updated upstream
     "execution_count": 15,
=======
     "execution_count": 336,
>>>>>>> Stashed changes
     "metadata": {},
     "output_type": "execute_result"
    }
   ],
   "source": [
    "# declarar ahora f=x^2 y mostrar\n",
    "f=x**2\n",
    "f"
   ]
  },
  {
   "cell_type": "code",
<<<<<<< Updated upstream
   "execution_count": 18,
=======
   "execution_count": 337,
>>>>>>> Stashed changes
   "metadata": {},
   "outputs": [
    {
     "data": {
      "text/latex": [
       "$$2 x$$"
      ],
      "text/plain": [
       "2⋅x"
      ]
     },
<<<<<<< Updated upstream
     "execution_count": 18,
=======
     "execution_count": 337,
>>>>>>> Stashed changes
     "metadata": {},
     "output_type": "execute_result"
    }
   ],
   "source": [
    "# derivar f respecto a x y mostrar\n",
    "dfdx=sym.diff(f,x)\n",
    "dfdx"
   ]
  },
  {
   "cell_type": "code",
<<<<<<< Updated upstream
   "execution_count": 20,
=======
   "execution_count": 338,
>>>>>>> Stashed changes
   "metadata": {},
   "outputs": [
    {
     "data": {
      "text/latex": [
       "$$\\left [ 0\\right ]$$"
      ],
      "text/plain": [
       "[0]"
      ]
     },
<<<<<<< Updated upstream
     "execution_count": 20,
=======
     "execution_count": 338,
>>>>>>> Stashed changes
     "metadata": {},
     "output_type": "execute_result"
    }
   ],
   "source": [
    "# resolver f'(x)=0 y mostrar soluciones\n",
<<<<<<< Updated upstream
    "xc=sym.solve(dfdx,x)\n",
    "xc"
=======
    "sym.solve(dfdx,x)"
>>>>>>> Stashed changes
   ]
  },
  {
   "cell_type": "markdown",
   "metadata": {},
   "source": [
    "Veamos la gráfica..."
   ]
  },
  {
   "cell_type": "code",
<<<<<<< Updated upstream
   "execution_count": 23,
=======
   "execution_count": 339,
>>>>>>> Stashed changes
   "metadata": {},
   "outputs": [],
   "source": [
    "# convertir f e una función que se pueda evaluar numéricamente (función lambdify de la librería sympy)\n",
<<<<<<< Updated upstream
    "fnum=sym.lambdify(x,f)\n"
=======
    "fnum=sym.lambdify(x,f)"
>>>>>>> Stashed changes
   ]
  },
  {
   "cell_type": "code",
<<<<<<< Updated upstream
   "execution_count": 27,
=======
   "execution_count": 340,
>>>>>>> Stashed changes
   "metadata": {
    "scrolled": false
   },
   "outputs": [],
   "source": [
    "#Coordenadas x (abscisas)\n",
    "#x = np.array([0, 0.1, 0.2, ])...\n",
    "xnum=np.linspace(-10,10,200)\n",
    "ynum=fnum(xnum)"
   ]
  },
  {
   "cell_type": "code",
<<<<<<< Updated upstream
   "execution_count": 35,
=======
   "execution_count": 341,
>>>>>>> Stashed changes
   "metadata": {},
   "outputs": [
    {
     "data": {
<<<<<<< Updated upstream
      "image/png": "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\n",
=======
      "image/png": "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\n",
>>>>>>> Stashed changes
      "text/plain": [
       "<Figure size 576x432 with 1 Axes>"
      ]
     },
     "metadata": {
      "needs_background": "light"
     },
     "output_type": "display_data"
    }
   ],
   "source": [
    "# Graficar\n",
    "# Crear ventana de graficos y damos medidas de la ventana\n",
    "plt.figure(figsize=(8,6))\n",
    "# Sirve para hacer el grafico y determinar sus caracteristicas\n",
    "plt.plot(xnum,ynum,'-')\n",
    "# Nombre del eje x de la grafica\n",
    "plt.xlabel('$x$')\n",
    "# Nombre del eje y\n",
    "plt.ylabel('$y=x^2$')\n",
    "# Poner las etiquetas de las graficas\n",
    "plt.legend('y=f(x)')\n",
    "# Poner la cuadricula\n",
    "plt.grid()"
   ]
  },
  {
   "cell_type": "markdown",
   "metadata": {},
   "source": [
    "Ver diferencias entre f y f_num"
   ]
  },
  {
   "cell_type": "code",
   "execution_count": 342,
   "metadata": {},
   "outputs": [],
   "source": [
    "# intentar evaluar f y f_num\n"
   ]
  },
  {
   "cell_type": "markdown",
   "metadata": {},
   "source": [
    "**Otra manera de hacer lo anterior**\n",
    "\n",
    "Concepto de función..."
   ]
  },
  {
   "cell_type": "code",
   "execution_count": 343,
   "metadata": {},
   "outputs": [],
   "source": [
    "#Definir la funcion\n",
    "def funcionx2(x):\n",
    "    return x**2"
   ]
  },
  {
   "cell_type": "code",
<<<<<<< Updated upstream
   "execution_count": 37,
=======
   "execution_count": 344,
>>>>>>> Stashed changes
   "metadata": {},
   "outputs": [],
   "source": [
    "#Definir x sym\n",
<<<<<<< Updated upstream
    "x=sym.var('x')"
=======
    "x=sym.var('x', real='true')"
>>>>>>> Stashed changes
   ]
  },
  {
   "cell_type": "code",
   "execution_count": 345,
   "metadata": {},
   "outputs": [
    {
     "data": {
      "text/latex": [
       "$$x^{2}$$"
      ],
      "text/plain": [
       " 2\n",
       "x "
      ]
     },
     "execution_count": 345,
     "metadata": {},
     "output_type": "execute_result"
    }
   ],
   "source": [
    "#Definir f sym\n",
    "fsym=funcionx2(x)\n",
    "fsym"
   ]
  },
  {
   "cell_type": "code",
   "execution_count": 346,
   "metadata": {},
   "outputs": [
    {
     "data": {
      "text/latex": [
       "$$2 x$$"
      ],
      "text/plain": [
       "2⋅x"
      ]
     },
     "execution_count": 346,
     "metadata": {},
     "output_type": "execute_result"
    }
   ],
   "source": [
    "#Calcular la derivada \n",
    "dfdx=sym.diff(fsym,x)\n",
    "dfdx"
   ]
  },
  {
   "cell_type": "code",
   "execution_count": 347,
   "metadata": {},
   "outputs": [
    {
     "data": {
      "text/latex": [
       "$$\\left [ 0\\right ]$$"
      ],
      "text/plain": [
       "[0]"
      ]
     },
     "execution_count": 347,
     "metadata": {},
     "output_type": "execute_result"
    }
   ],
   "source": [
    "#Resolver la derivada \n",
    "sym.solve(dfdx)"
   ]
  },
  {
   "cell_type": "code",
   "execution_count": 348,
   "metadata": {},
   "outputs": [
    {
     "data": {
      "image/png": "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\n",
      "text/plain": [
       "<Figure size 576x432 with 1 Axes>"
      ]
     },
     "metadata": {
      "needs_background": "light"
     },
     "output_type": "display_data"
    }
   ],
   "source": [
    "#Graficar\n",
    "fnum=sym.lambdify(x,fsym)\n",
    "xnum=np.linspace(-10,10,200)\n",
    "ynum=fnum(xnum)\n",
    "\n",
    "# Graficar\n",
    "plt.figure(figsize=(8,6))\n",
    "# Sirve para hacer el grafico y determinar sus caracteristicas\n",
    "plt.plot(xnum,ynum,'-')\n",
    "# Nombre del eje x de la grafica\n",
    "plt.xlabel('$x$')\n",
    "# Nombre del eje y\n",
    "plt.ylabel('$y=x^2$')\n",
    "# Poner las etiquetas de las graficas\n",
    "plt.legend('y=f(x)')\n",
    "# Poner la cuadricula\n",
    "plt.grid()"
   ]
  },
  {
   "cell_type": "markdown",
   "metadata": {},
   "source": [
    "El converso del teorema anterior no es cierto.\n",
    "\n",
    "### Actividad\n",
    "Considere $g(x)=x^3$. \n",
    "- Usando `sympy`, muestre que $g'(0)=0$.\n",
    "- Sin embargo, descartar que $x=0$ es un extremo de $g(x)$ viendo su **gráfica**."
   ]
  },
  {
   "cell_type": "code",
   "execution_count": 349,
   "metadata": {},
   "outputs": [
    {
     "data": {
      "text/latex": [
       "$$x$$"
      ],
      "text/plain": [
       "x"
      ]
     },
     "execution_count": 349,
     "metadata": {},
     "output_type": "execute_result"
    }
   ],
   "source": [
    "# Declarar la variable simbolica x\n",
    "sym.var('x', real='true')"
   ]
  },
  {
   "cell_type": "code",
   "execution_count": 350,
   "metadata": {},
   "outputs": [
    {
     "data": {
      "text/latex": [
       "$$x^{3}$$"
      ],
      "text/plain": [
       " 3\n",
       "x "
      ]
     },
     "execution_count": 350,
     "metadata": {},
     "output_type": "execute_result"
    }
   ],
   "source": [
    "# Definimos funcion g(x)\n",
    "g=x**3\n",
    "g"
   ]
  },
  {
   "cell_type": "code",
   "execution_count": 351,
   "metadata": {},
   "outputs": [
    {
     "data": {
      "text/latex": [
       "$$3 x^{2}$$"
      ],
      "text/plain": [
       "   2\n",
       "3⋅x "
      ]
     },
     "execution_count": 351,
     "metadata": {},
     "output_type": "execute_result"
    }
   ],
   "source": [
    "# Derivamos g(x)\n",
    "dgdx=sym.diff(g,x)\n",
    "dgdx"
   ]
  },
  {
   "cell_type": "code",
   "execution_count": 352,
   "metadata": {},
   "outputs": [
    {
     "data": {
      "text/latex": [
       "$$\\left [ \\right ]$$"
      ],
      "text/plain": [
       "[]"
      ]
     },
     "execution_count": 352,
     "metadata": {},
     "output_type": "execute_result"
    }
   ],
   "source": [
    "# Puntos criticos\n",
    "xc=sym.solve(x,g)\n",
    "xc"
   ]
  },
  {
   "cell_type": "code",
   "execution_count": 353,
   "metadata": {},
   "outputs": [
    {
     "data": {
      "image/png": "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\n",
      "text/plain": [
       "<Figure size 576x432 with 1 Axes>"
      ]
     },
     "metadata": {
      "needs_background": "light"
     },
     "output_type": "display_data"
    }
   ],
   "source": [
    "gnum=sym.lambdify(x,g)\n",
    "xnum=np.linspace(-10,10,200)\n",
    "ynum=gnum(xnum)\n",
    "\n",
    "# Graficar\n",
    "plt.figure(figsize=(8,6))\n",
    "# Sirve para hacer el grafico y determinar sus caracteristicas\n",
    "plt.plot(xnum,ynum,'-')\n",
    "# Nombre del eje x de la grafica\n",
    "plt.xlabel('$x$')\n",
    "# Nombre del eje y\n",
    "plt.ylabel('$y=x^3$')\n",
    "# Poner las etiquetas de las graficas\n",
    "plt.legend('y=f(x)')\n",
    "# Poner la cuadricula\n",
    "plt.grid()"
   ]
  },
  {
   "cell_type": "markdown",
   "metadata": {},
   "source": [
    "## 2. Criterio de la segunda derivada\n",
    "\n",
    "Sea $f(x)$ una función tal que $f’(c)=0$ y cuya segunda derivada existe en un intervalo abierto que contiene a $c$.\n",
    "- Si $f’’(c)>0$, entonces $f(c)$ es un mínimo relativo.\n",
    "- Si $f’’(c)<0$, entonces $f(c)$ es un máximo relativo.\n",
    "- Si $f’’(c)=0$, entonces el criterio no decide. "
   ]
  },
  {
   "cell_type": "markdown",
   "metadata": {},
   "source": [
    "### Ejemplo\n",
    "\n",
    "Mostrar, usando `sympy`, que la función $f(x)=x^2$ tiene un mínimo relativo en $x=0$.\n",
    "\n",
    "Ya vimos que $f'(0)=0$. Notemos que:"
   ]
  },
  {
   "cell_type": "code",
   "execution_count": 354,
   "metadata": {},
   "outputs": [
    {
     "data": {
      "text/latex": [
       "$$x^{2}$$"
      ],
      "text/plain": [
       " 2\n",
       "x "
      ]
     },
     "execution_count": 354,
     "metadata": {},
     "output_type": "execute_result"
    }
   ],
   "source": [
    "fsym"
   ]
  },
  {
   "cell_type": "code",
   "execution_count": 355,
   "metadata": {},
   "outputs": [
    {
     "data": {
      "text/latex": [
       "$$2$$"
      ],
      "text/plain": [
       "2"
      ]
     },
     "execution_count": 355,
     "metadata": {},
     "output_type": "execute_result"
    }
   ],
   "source": [
    "# Sacamos la segunda derivada\n",
    "#d2f = sym.diff(f(x), x, x)\n",
    "d2f=sym.diff(fsym,x,2)\n",
    "d2f"
   ]
  },
  {
   "cell_type": "code",
   "execution_count": 356,
   "metadata": {},
   "outputs": [
    {
     "data": {
      "text/latex": [
       "$$\\mathrm{True}$$"
      ],
      "text/plain": [
       "True"
      ]
     },
     "execution_count": 356,
     "metadata": {},
     "output_type": "execute_result"
    }
   ],
   "source": [
    "d2f>0"
   ]
  },
  {
   "cell_type": "markdown",
   "metadata": {},
   "source": [
    "Por tanto, por el criterio de la segunda derivada, $f(0)=0$ es un mínimo relativo (en efecto, el mínimo global)."
   ]
  },
  {
   "cell_type": "markdown",
   "metadata": {},
   "source": [
    "### Ejemplo\n",
    "¿Qué pasa con $g(x)=x^3$ al intentar utilizar el criterio de la segunda derivada? (usar `sympy`)."
   ]
  },
  {
   "cell_type": "code",
   "execution_count": 357,
   "metadata": {},
   "outputs": [
    {
     "data": {
      "text/latex": [
       "$$x^{3}$$"
      ],
      "text/plain": [
       " 3\n",
       "x "
      ]
     },
     "execution_count": 357,
     "metadata": {},
     "output_type": "execute_result"
    }
   ],
   "source": [
    "g"
   ]
  },
  {
   "cell_type": "code",
   "execution_count": 358,
   "metadata": {},
   "outputs": [
    {
     "data": {
      "text/latex": [
       "$$6 x$$"
      ],
      "text/plain": [
       "6⋅x"
      ]
     },
     "execution_count": 358,
     "metadata": {},
     "output_type": "execute_result"
    }
   ],
   "source": [
    "d2g=sym.diff(g,x,x)\n",
    "d2g"
   ]
  },
  {
   "cell_type": "code",
   "execution_count": 359,
   "metadata": {},
   "outputs": [],
   "source": [
    "d2g=0"
   ]
  },
  {
   "cell_type": "markdown",
   "metadata": {},
   "source": [
    "Como $g''(0)=0$ entonces el criterio de la segunda derivada no concluye."
   ]
  },
  {
   "cell_type": "markdown",
   "metadata": {},
   "source": [
    "### Actividad\n",
    "\n",
    "¿Qué pasa con $h(x)=x^4$ al intentar utilizar el criterio de la segunda derivada?."
   ]
  },
  {
   "cell_type": "code",
   "execution_count": null,
   "metadata": {},
   "outputs": [],
   "source": []
  },
  {
   "cell_type": "code",
   "execution_count": null,
   "metadata": {},
   "outputs": [],
   "source": []
  },
  {
   "cell_type": "code",
   "execution_count": null,
   "metadata": {},
   "outputs": [],
   "source": []
  },
  {
   "cell_type": "code",
   "execution_count": null,
   "metadata": {},
   "outputs": [],
   "source": []
  },
  {
   "cell_type": "code",
   "execution_count": null,
   "metadata": {},
   "outputs": [],
   "source": []
  },
  {
   "cell_type": "markdown",
   "metadata": {},
   "source": [
    "## 3. Método para determinar extremos absolutos de una función continua y=f(x) en [a,b] \n",
    "\n",
    "- Determinar todos los valores críticos $c_1, c_2, c_3, \\dots, c_n$ en $(a,b)$.\n",
    "- Evaluar $f$ en todos los valores críticos y en los extremos $x=a$ y $x=b$.\n",
    "- El más grande y el más pequeño de los valores de la lista $f(a), f(b), f(c_1), f(c_2), \\dots, f(c_n)$ son el máximo absoluto y el mínimo absoluto, respectivamente, de f en el intervalo [a,b]."
   ]
  },
  {
   "cell_type": "markdown",
   "metadata": {
    "collapsed": true
   },
   "source": [
    "### Ejemplo\n",
    "\n",
    "Determinar los extremos absolutos de $f(x)=x^2-6x$ en $\\left[0,5\\right]$.\n",
    "\n",
    "Obtenemos los puntos críticos de $f$ en $\\left[0,5\\right]$:"
   ]
  },
  {
   "cell_type": "code",
   "execution_count": 376,
   "metadata": {},
   "outputs": [],
   "source": [
    "x=sym.var('x', real='true')"
   ]
  },
  {
   "cell_type": "code",
   "execution_count": 377,
   "metadata": {},
   "outputs": [
    {
     "data": {
      "text/latex": [
       "$$x^{2} - 6 x$$"
      ],
      "text/plain": [
       " 2      \n",
       "x  - 6⋅x"
      ]
     },
     "execution_count": 377,
     "metadata": {},
     "output_type": "execute_result"
    }
   ],
   "source": [
    "def funcion3(x):\n",
    "    return x**2-6*x\n",
    "\n",
    "fsym2=funcion3(x)\n",
    "fsym2"
   ]
  },
  {
   "cell_type": "code",
   "execution_count": 378,
   "metadata": {},
   "outputs": [
    {
     "data": {
      "text/latex": [
       "$$\\left [ 3\\right ]$$"
      ],
      "text/plain": [
       "[3]"
      ]
     },
     "execution_count": 378,
     "metadata": {},
     "output_type": "execute_result"
    }
   ],
   "source": [
    "df2=sym.diff(fsym2,x)\n",
    "\n",
    "xc2=sym.solve(df2,x)\n",
    "xc2"
   ]
  },
  {
   "cell_type": "markdown",
   "metadata": {},
   "source": [
    "Evaluamos $f$ en los extremos y en los puntos críticos:"
   ]
  },
  {
   "cell_type": "code",
   "execution_count": 383,
   "metadata": {},
   "outputs": [
    {
     "data": {
      "text/latex": [
       "$$\\left [ 0, \\quad -5, \\quad -9\\right ]$$"
      ],
      "text/plain": [
       "[0, -5, -9]"
      ]
     },
     "execution_count": 383,
     "metadata": {},
     "output_type": "execute_result"
    }
   ],
   "source": [
    "[funcion3(0),funcion3(5),funcion3(xc2[0])]"
   ]
  },
  {
   "cell_type": "markdown",
   "metadata": {},
   "source": [
    "Concluimos que el máximo absoluto de $f$ en $\\left[0,5\\right]$ es $0$ y se alcanza en $x=0$, y que el mínimo absoluto es $-9$ y se alcanza en $x=3$."
   ]
  },
  {
   "cell_type": "code",
   "execution_count": 395,
   "metadata": {},
   "outputs": [
    {
     "data": {
      "image/png": "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\n",
      "text/plain": [
       "<Figure size 720x720 with 1 Axes>"
      ]
     },
     "metadata": {
      "needs_background": "light"
     },
     "output_type": "display_data"
    }
   ],
   "source": [
    "# Graficar\n",
    "f2num=sym.lambdify(x,fsym2)\n",
    "xnum=np.linspace(0,5,100)\n",
    "ynum=f2num(xnum)\n",
    "\n",
    "# Graficar\n",
    "plt.figure(figsize=(10,10))\n",
    "\n",
    "# Sirve para hacer el grafico y determinar sus caracteristicas\n",
    "plt.plot(xnum,ynum,'-', label='$y=x^2-6x$')\n",
    "plt.plot(0,funcion3(0),'*y')\n",
    "plt.plot(5,funcion3(5),'*y')\n",
    "plt.plot(xc2[0],funcion3(xc2[0]),'*y')\n",
    "# Nombre del eje x de la grafica\n",
    "plt.xlabel('$x$')\n",
    "# Nombre del eje y\n",
    "plt.ylabel('$y=x^2-6x$')\n",
    "# Poner las etiquetas de las graficas\n",
    "plt.legend(loc='best')\n",
    "# Poner la cuadricula\n",
    "plt.grid()"
   ]
  },
  {
   "cell_type": "markdown",
   "metadata": {},
   "source": [
    "### Actividad\n",
    "Determinar los valores extremos absolutos de $h(x)=x^3-3x$ en $\\left[-2.2,1.8\\right]$, usando `sympy`. Mostrar en una gráfica."
   ]
  },
  {
   "cell_type": "code",
   "execution_count": null,
   "metadata": {},
   "outputs": [],
   "source": []
  },
  {
   "cell_type": "code",
   "execution_count": null,
   "metadata": {},
   "outputs": [],
   "source": []
  },
  {
   "cell_type": "code",
   "execution_count": null,
   "metadata": {},
   "outputs": [],
   "source": []
  },
  {
   "cell_type": "code",
   "execution_count": null,
   "metadata": {},
   "outputs": [],
   "source": []
  },
  {
   "cell_type": "code",
   "execution_count": null,
   "metadata": {},
   "outputs": [],
   "source": []
  },
  {
   "cell_type": "code",
   "execution_count": null,
   "metadata": {},
   "outputs": [],
   "source": []
  },
  {
   "cell_type": "code",
   "execution_count": null,
   "metadata": {},
   "outputs": [],
   "source": []
  },
  {
   "cell_type": "markdown",
   "metadata": {},
   "source": [
    "### En varias variables...\n",
    "\n",
    "El procedimiento es análogo. \n",
    "\n",
    "Si una función $f:\\mathbb{R}^n\\to\\mathbb{R}$ alcanza un máximo o mínimo local en $\\boldsymbol{x}=\\boldsymbol{c}\\in\\mathbb{R}^n$, y $f$ es diferenciable en el punto $\\boldsymbol{x}=\\boldsymbol{c}$, entonces $\\left.\\frac{\\partial f}{\\partial \\boldsymbol{x}}\\right|_{\\boldsymbol{x}=\\boldsymbol{c}}=\\boldsymbol{0}$ (todas las derivadas parciales en el punto $\\boldsymbol{x}=\\boldsymbol{c}$ son cero).\n",
    "\n",
    "**Criterio de la segunda derivada:** para ver si es máximo o mínimo, se toma la segunda derivada (matriz jacobiana) y se verifica definición negativa o positiva, respectivamente.\n",
    "\n",
    "Si se restringe a cierta región, hay ciertas técnicas. La más general, pero también la más compleja es la de **multiplicadores de Lagrange**."
   ]
  },
  {
   "cell_type": "markdown",
   "metadata": {},
   "source": [
    "**Ejemplo:** hacer a mano a la vez para corroborar..."
   ]
  },
  {
   "cell_type": "code",
   "execution_count": 364,
   "metadata": {},
   "outputs": [
    {
     "data": {
      "text/latex": [
       "$$\\left ( x, \\quad y\\right )$$"
      ],
      "text/plain": [
       "(x, y)"
      ]
     },
     "execution_count": 364,
     "metadata": {},
     "output_type": "execute_result"
    }
   ],
   "source": [
    "sym.var('x y')\n",
    "x, y"
   ]
  },
  {
   "cell_type": "code",
   "execution_count": 365,
   "metadata": {},
   "outputs": [],
   "source": [
    "def f(x, y):\n",
    "    return x**2 + y**2"
   ]
  },
  {
   "cell_type": "code",
   "execution_count": 366,
   "metadata": {},
   "outputs": [
    {
     "data": {
      "text/latex": [
       "$$\\left ( 2 x, \\quad 2 y\\right )$$"
      ],
      "text/plain": [
       "(2⋅x, 2⋅y)"
      ]
     },
     "execution_count": 366,
     "metadata": {},
     "output_type": "execute_result"
    }
   ],
   "source": [
    "dfx = sym.diff(f(x,y), x)\n",
    "dfy = sym.diff(f(x,y), y)\n",
    "dfx, dfy"
   ]
  },
  {
   "cell_type": "code",
   "execution_count": 367,
   "metadata": {},
   "outputs": [
    {
     "data": {
      "text/latex": [
       "$$\\left \\{ x : 0, \\quad y : 0\\right \\}$$"
      ],
      "text/plain": [
       "{x: 0, y: 0}"
      ]
     },
     "execution_count": 367,
     "metadata": {},
     "output_type": "execute_result"
    }
   ],
   "source": [
    "xy_c = sym.solve([dfx, dfy], [x, y])\n",
    "xy_c"
   ]
  },
  {
   "cell_type": "code",
   "execution_count": 368,
   "metadata": {},
   "outputs": [
    {
     "data": {
      "text/latex": [
       "$$\\left ( 0, \\quad 0\\right )$$"
      ],
      "text/plain": [
       "(0, 0)"
      ]
     },
     "execution_count": 368,
     "metadata": {},
     "output_type": "execute_result"
    }
   ],
   "source": [
    "x_c, y_c = xy_c[x], xy_c[y]\n",
    "x_c, y_c"
   ]
  },
  {
   "cell_type": "code",
   "execution_count": 369,
   "metadata": {},
   "outputs": [
    {
     "data": {
      "text/latex": [
       "$$\\left \\{ 2 : 2\\right \\}$$"
      ],
      "text/plain": [
       "{2: 2}"
      ]
     },
     "execution_count": 369,
     "metadata": {},
     "output_type": "execute_result"
    }
   ],
   "source": [
    "d2fx = sym.diff(f(x,y), x, 2)\n",
    "d2fy = sym.diff(f(x,y), y, 2)\n",
    "dfxy = sym.diff(f(x,y), x, y)\n",
    "\n",
    "Jf = sym.Matrix([[d2fx, dfxy], [dfxy, d2fy]])\n",
    "Jf.eigenvals()"
   ]
  },
  {
   "cell_type": "code",
   "execution_count": 370,
   "metadata": {},
   "outputs": [],
   "source": [
    "import matplotlib.pyplot as plt\n",
    "from mpl_toolkits.mplot3d import Axes3D"
   ]
  },
  {
   "cell_type": "code",
   "execution_count": 371,
   "metadata": {},
   "outputs": [
    {
     "data": {
      "text/plain": [
       "[<mpl_toolkits.mplot3d.art3d.Line3D at 0x156c46de7b8>]"
      ]
     },
     "execution_count": 371,
     "metadata": {},
     "output_type": "execute_result"
    },
    {
     "data": {
      "image/png": "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\n",
      "text/plain": [
       "<Figure size 432x288 with 1 Axes>"
      ]
     },
     "metadata": {
      "needs_background": "light"
     },
     "output_type": "display_data"
    }
   ],
   "source": [
    "fig = plt.figure()\n",
    "ax = fig.add_subplot(111, projection='3d')\n",
    "\n",
    "x = np.linspace(-2, 2, 100)\n",
    "y = x\n",
    "X, Y = np.meshgrid(x, y)\n",
    "\n",
    "ax.plot_surface(X, Y, f(X, Y))\n",
    "ax.plot([x_c], [y_c], [f(x_c,y_c)], '*r')"
   ]
  },
  {
   "cell_type": "markdown",
   "metadata": {},
   "source": [
    "### Tareas.\n",
    "\n",
    "1. Introducción a numpy. Obtener máximos y mínimos absolutos, usando `sympy`, de las funciones dadas en los intervalos dados, y graficar la función en dicho intervalo señalando los puntos máximo y mínimo absolutos."
   ]
  },
  {
   "cell_type": "code",
   "execution_count": 397,
   "metadata": {},
   "outputs": [
    {
     "data": {
      "text/latex": [
       "$$x^{2} + 2 x y + y^{2}$$"
      ],
      "text/plain": [
       " 2            2\n",
       "x  + 2⋅x⋅y + y "
      ]
     },
     "execution_count": 397,
     "metadata": {},
     "output_type": "execute_result"
    }
   ],
   "source": [
    "def funcionxy(x,y):\n",
    "    return x**2+2*x*y+y**2\n",
    "\n",
    "x=sym.var('x', real='true')\n",
    "y=sym.var('y', real='true')\n",
    "\n",
    "f4=funcionxy(x,y)\n",
    "f4"
   ]
  },
  {
   "cell_type": "code",
   "execution_count": 405,
   "metadata": {},
   "outputs": [
    {
     "data": {
      "text/latex": [
       "$$\\left ( \\left [ 2 x + 2 y, \\quad \\left [ - y\\right ]\\right ], \\quad \\left [ 2 x + 2 y, \\quad \\left [ - x\\right ]\\right ]\\right )$$"
      ],
      "text/plain": [
       "([2⋅x + 2⋅y, [-y]], [2⋅x + 2⋅y, [-x]])"
      ]
     },
     "execution_count": 405,
     "metadata": {},
     "output_type": "execute_result"
    }
   ],
   "source": [
    "dfx=sym.diff(f4,x)\n",
    "dfy=sym.diff(f4,y)\n",
    "\n",
    "xc1=sym.solve(dfx,x)\n",
    "yc1=sym.solve(dfy,y)\n",
    "\n",
    "[dfx, xc1],[dfy, yc1]"
   ]
  },
  {
   "cell_type": "code",
   "execution_count": null,
   "metadata": {},
   "outputs": [],
   "source": []
  },
  {
   "cell_type": "code",
   "execution_count": 403,
   "metadata": {},
   "outputs": [
    {
     "ename": "KeyError",
     "evalue": "y",
     "output_type": "error",
     "traceback": [
      "\u001b[1;31m---------------------------------------------------------------------------\u001b[0m",
      "\u001b[1;31mKeyError\u001b[0m                                  Traceback (most recent call last)",
      "\u001b[1;32m<ipython-input-403-f5ea20ffdc17>\u001b[0m in \u001b[0;36m<module>\u001b[1;34m\u001b[0m\n\u001b[1;32m----> 1\u001b[1;33m \u001b[0mxc\u001b[0m\u001b[1;33m,\u001b[0m \u001b[0myc\u001b[0m \u001b[1;33m=\u001b[0m \u001b[0mxyc\u001b[0m\u001b[1;33m[\u001b[0m\u001b[0mx\u001b[0m\u001b[1;33m]\u001b[0m\u001b[1;33m,\u001b[0m \u001b[0mxyc\u001b[0m\u001b[1;33m[\u001b[0m\u001b[0my\u001b[0m\u001b[1;33m]\u001b[0m\u001b[1;33m\u001b[0m\u001b[1;33m\u001b[0m\u001b[0m\n\u001b[0m\u001b[0;32m      2\u001b[0m \u001b[0mxc\u001b[0m\u001b[1;33m,\u001b[0m \u001b[0myc\u001b[0m\u001b[1;33m\u001b[0m\u001b[1;33m\u001b[0m\u001b[0m\n",
      "\u001b[1;31mKeyError\u001b[0m: y"
     ]
    }
   ],
   "source": []
  },
  {
   "cell_type": "code",
   "execution_count": null,
   "metadata": {},
   "outputs": [],
   "source": []
  },
  {
   "cell_type": "code",
   "execution_count": null,
   "metadata": {},
   "outputs": [],
   "source": []
  },
  {
   "cell_type": "code",
   "execution_count": null,
   "metadata": {},
   "outputs": [],
   "source": []
  }
 ],
 "metadata": {
  "kernelspec": {
   "display_name": "Python 3",
   "language": "python",
   "name": "python3"
  },
  "language_info": {
   "codemirror_mode": {
    "name": "ipython",
    "version": 3
   },
   "file_extension": ".py",
   "mimetype": "text/x-python",
   "name": "python",
   "nbconvert_exporter": "python",
   "pygments_lexer": "ipython3",
   "version": "3.7.1"
  }
 },
 "nbformat": 4,
 "nbformat_minor": 2
}
